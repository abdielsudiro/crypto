{
 "cells": [
  {
   "cell_type": "code",
   "execution_count": 1,
   "id": "e18e5880",
   "metadata": {},
   "outputs": [],
   "source": [
    "import random\n",
    "import math\n",
    "import sympy"
   ]
  },
  {
   "cell_type": "code",
   "execution_count": 2,
   "id": "08d75ff4",
   "metadata": {},
   "outputs": [],
   "source": [
    "# generate two primes\n",
    "p = sympy.randprime(1000, 2000)\n",
    "q = sympy.randprime(1000, 2000)\n",
    "\n",
    "assert sympy.isprime(p)\n",
    "assert sympy.isprime(q)"
   ]
  },
  {
   "cell_type": "code",
   "execution_count": 3,
   "id": "e4e43431",
   "metadata": {},
   "outputs": [],
   "source": [
    "# modulo\n",
    "n = p*p*q"
   ]
  },
  {
   "cell_type": "code",
   "execution_count": 4,
   "id": "ae652f0f",
   "metadata": {},
   "outputs": [],
   "source": [
    "# generator\n",
    "g = random.randint(1, n)\n",
    "\n",
    "assert g > 1 and g < n\n",
    "\n",
    "# Fermat's Little Theorem!\n",
    "assert pow(g, p-1, p*p) != 1 "
   ]
  },
  {
   "cell_type": "code",
   "execution_count": 5,
   "id": "fd3cfbb8",
   "metadata": {},
   "outputs": [],
   "source": [
    "h = pow(g, n, n)"
   ]
  },
  {
   "cell_type": "code",
   "execution_count": 6,
   "id": "2d5cb5fe",
   "metadata": {},
   "outputs": [
    {
     "name": "stdout",
     "output_type": "stream",
     "text": [
      "public key is n=5835200771, g=5758417491, h=3622237662\n",
      "private key is p=1973, q=1499\n"
     ]
    }
   ],
   "source": [
    "print(f\"public key is {n=}, {g=}, {h=}\")\n",
    "print(f\"private key is {p=}, {q=}\")"
   ]
  },
  {
   "cell_type": "markdown",
   "id": "1715bfc1",
   "metadata": {},
   "source": [
    "# encryption"
   ]
  },
  {
   "cell_type": "code",
   "execution_count": 7,
   "id": "a0b0291f",
   "metadata": {},
   "outputs": [],
   "source": [
    "# message in modulo p\n",
    "m = 17\n",
    "m = m % p"
   ]
  },
  {
   "cell_type": "code",
   "execution_count": 8,
   "id": "6a9faf45",
   "metadata": {},
   "outputs": [],
   "source": [
    "# random integer\n",
    "r = random.randint(1, n-1)\n",
    "assert r > 0 and r < n"
   ]
  },
  {
   "cell_type": "code",
   "execution_count": 9,
   "id": "e2f287fd",
   "metadata": {},
   "outputs": [],
   "source": [
    "def encrypt(m, r):\n",
    "    return ( pow(g, m, n) * pow(h, r, n) ) % n"
   ]
  },
  {
   "cell_type": "code",
   "execution_count": 10,
   "id": "869ed81e",
   "metadata": {},
   "outputs": [],
   "source": [
    "c = encrypt(m, r)"
   ]
  },
  {
   "cell_type": "code",
   "execution_count": 11,
   "id": "68671034",
   "metadata": {},
   "outputs": [
    {
     "name": "stdout",
     "output_type": "stream",
     "text": [
      "ciphertext is c=5580228089\n"
     ]
    }
   ],
   "source": [
    "print(f\"ciphertext is {c=}\")"
   ]
  },
  {
   "cell_type": "markdown",
   "id": "fcf89b1b",
   "metadata": {},
   "source": [
    "# decryption"
   ]
  },
  {
   "cell_type": "code",
   "execution_count": 12,
   "id": "e51c1839",
   "metadata": {},
   "outputs": [],
   "source": [
    "def lx(x):\n",
    "    assert x % p == 1\n",
    "    assert math.gcd(x, p*p) == 1\n",
    "    \n",
    "    lx = (x - 1)/p\n",
    "    return int(lx)"
   ]
  },
  {
   "cell_type": "code",
   "execution_count": 13,
   "id": "a43e1f2d",
   "metadata": {},
   "outputs": [],
   "source": [
    "def decrypt(c):\n",
    "    a = lx( pow(c, p-1, p*p) )\n",
    "    b = lx( pow(g, p-1, p*p) )\n",
    "    return ( a * pow(b, -1, p) ) % p"
   ]
  },
  {
   "cell_type": "code",
   "execution_count": 14,
   "id": "08890e53",
   "metadata": {},
   "outputs": [],
   "source": [
    "m_prime = decrypt(c)"
   ]
  },
  {
   "cell_type": "code",
   "execution_count": 15,
   "id": "5d9aa8f1",
   "metadata": {},
   "outputs": [
    {
     "data": {
      "text/plain": [
       "17"
      ]
     },
     "execution_count": 15,
     "metadata": {},
     "output_type": "execute_result"
    }
   ],
   "source": [
    "m_prime"
   ]
  },
  {
   "cell_type": "code",
   "execution_count": 16,
   "id": "e23317ce",
   "metadata": {},
   "outputs": [],
   "source": [
    "assert m_prime == m"
   ]
  },
  {
   "cell_type": "markdown",
   "id": "4f9a06e0",
   "metadata": {},
   "source": [
    "# homomorphic features"
   ]
  },
  {
   "cell_type": "code",
   "execution_count": 17,
   "id": "c3e705e5",
   "metadata": {},
   "outputs": [
    {
     "name": "stdout",
     "output_type": "stream",
     "text": [
      "17, 3961510912\n",
      "23, 2703214015\n"
     ]
    }
   ],
   "source": [
    "m1 = 17\n",
    "r1 = random.randint(1, n-1)\n",
    "print(f\"{m1}, {r1}\")\n",
    "\n",
    "m2 = 23\n",
    "r2 = random.randint(1, n-1)\n",
    "print(f\"{m2}, {r2}\")"
   ]
  },
  {
   "cell_type": "code",
   "execution_count": 18,
   "id": "7f76749c",
   "metadata": {},
   "outputs": [],
   "source": [
    "c1 = encrypt(m1, r1)\n",
    "c2 = encrypt(m2, r2)"
   ]
  },
  {
   "cell_type": "code",
   "execution_count": 19,
   "id": "4f5765eb",
   "metadata": {},
   "outputs": [],
   "source": [
    "assert ( c1 * c2 ) % n == encrypt(m1+m2, r1+r2)"
   ]
  },
  {
   "cell_type": "code",
   "execution_count": 20,
   "id": "1c65a8b1",
   "metadata": {},
   "outputs": [],
   "source": [
    "assert decrypt(( c1 * c2 ) % n) == m1 + m2"
   ]
  }
 ],
 "metadata": {
  "kernelspec": {
   "display_name": "Python 3 (ipykernel)",
   "language": "python",
   "name": "python3"
  },
  "language_info": {
   "codemirror_mode": {
    "name": "ipython",
    "version": 3
   },
   "file_extension": ".py",
   "mimetype": "text/x-python",
   "name": "python",
   "nbconvert_exporter": "python",
   "pygments_lexer": "ipython3",
   "version": "3.8.12"
  }
 },
 "nbformat": 4,
 "nbformat_minor": 5
}
